{
  "nbformat": 4,
  "nbformat_minor": 0,
  "metadata": {
    "colab": {
      "provenance": [],
      "authorship_tag": "ABX9TyM+uT3BperscmLQiWmr0bWt",
      "include_colab_link": true
    },
    "kernelspec": {
      "name": "python3",
      "display_name": "Python 3"
    },
    "language_info": {
      "name": "python"
    }
  },
  "cells": [
    {
      "cell_type": "markdown",
      "metadata": {
        "id": "view-in-github",
        "colab_type": "text"
      },
      "source": [
        "<a href=\"https://colab.research.google.com/github/Tamilselvan-AIengineer/Deep_Learning_Techniques_-21AIC301J/blob/main/lstm.ipynb\" target=\"_parent\"><img src=\"https://colab.research.google.com/assets/colab-badge.svg\" alt=\"Open In Colab\"/></a>"
      ]
    },
    {
      "cell_type": "code",
      "source": [
        "import numpy as np\n",
        "from tensorflow.keras.models import Sequential\n",
        "from tensorflow.keras.layers import LSTM, Dense\n",
        "\n",
        "# 1. Prepare your data\n",
        "# Example: Simple sequence prediction\n",
        "# Input sequences (e.g., [1, 2, 3]) and corresponding output (e.g., 4)\n",
        "X = np.array([[1, 2, 3], [2, 3, 4], [3, 4, 5], [4, 5, 6]])\n",
        "y = np.array([4, 5, 6, 7])\n",
        "\n",
        "# Reshape input data for LSTM: [samples, timesteps, features]\n",
        "# Here, each number is a feature, so features=1\n",
        "X = X.reshape((X.shape[0], X.shape[1], 1))\n",
        "\n",
        "# 2. Build the LSTM model\n",
        "model = Sequential()\n",
        "model.add(LSTM(50, activation='relu', input_shape=(X.shape[1], 1))) # 50 LSTM units, ReLU activation\n",
        "model.add(Dense(1)) # Output layer with 1 unit for predicting the next number\n",
        "model.compile(optimizer='adam', loss='mse') # Adam optimizer, Mean Squared Error loss\n",
        "\n",
        "# 3. Train the model\n",
        "model.fit(X, y, epochs=200, verbose=0) # Train for 200 epochs, suppress verbose output\n",
        "\n",
        "# 4. Make a prediction\n",
        "# Example: Predict the next number after [5, 6, 7]\n",
        "x_input = np.array([5, 6, 7])\n",
        "x_input = x_input.reshape((1, 3, 1)) # Reshape for prediction\n",
        "y_pred = model.predict(x_input, verbose=0)\n",
        "\n",
        "print(f\"Predicted next value for [5, 6, 7]: {y_pred[0][0]:.2f}\")"
      ],
      "metadata": {
        "colab": {
          "base_uri": "https://localhost:8080/"
        },
        "id": "ddOkGRmHdITL",
        "outputId": "1b98e54e-630b-4957-fb73-df5064d164e9"
      },
      "execution_count": 24,
      "outputs": [
        {
          "output_type": "stream",
          "name": "stderr",
          "text": [
            "/usr/local/lib/python3.12/dist-packages/keras/src/layers/rnn/rnn.py:199: UserWarning: Do not pass an `input_shape`/`input_dim` argument to a layer. When using Sequential models, prefer using an `Input(shape)` object as the first layer in the model instead.\n",
            "  super().__init__(**kwargs)\n"
          ]
        },
        {
          "output_type": "stream",
          "name": "stdout",
          "text": [
            "Predicted next value for [5, 6, 7]: 10.01\n"
          ]
        }
      ]
    }
  ]
}