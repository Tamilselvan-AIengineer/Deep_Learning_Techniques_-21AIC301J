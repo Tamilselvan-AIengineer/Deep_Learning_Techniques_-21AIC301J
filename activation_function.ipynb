{
  "nbformat": 4,
  "nbformat_minor": 0,
  "metadata": {
    "colab": {
      "provenance": [],
      "authorship_tag": "ABX9TyNT1A8Qc2cHv3/6n77ShRve",
      "include_colab_link": true
    },
    "kernelspec": {
      "name": "python3",
      "display_name": "Python 3"
    },
    "language_info": {
      "name": "python"
    }
  },
  "cells": [
    {
      "cell_type": "markdown",
      "metadata": {
        "id": "view-in-github",
        "colab_type": "text"
      },
      "source": [
        "<a href=\"https://colab.research.google.com/github/Tamilselvan-AIengineer/Deep_Learning_Techniques_-21AIC301J/blob/main/activation_function.ipynb\" target=\"_parent\"><img src=\"https://colab.research.google.com/assets/colab-badge.svg\" alt=\"Open In Colab\"/></a>"
      ]
    },
    {
      "cell_type": "code",
      "execution_count": 1,
      "metadata": {
        "colab": {
          "base_uri": "https://localhost:8080/"
        },
        "id": "gfO9uc_t6uMv",
        "outputId": "30b3eb07-bf66-4695-b9c2-bdc7cc4fcc6e"
      },
      "outputs": [
        {
          "output_type": "stream",
          "name": "stderr",
          "text": [
            "100%|██████████| 9.91M/9.91M [00:00<00:00, 17.7MB/s]\n",
            "100%|██████████| 28.9k/28.9k [00:00<00:00, 481kB/s]\n",
            "100%|██████████| 1.65M/1.65M [00:00<00:00, 4.45MB/s]\n",
            "100%|██████████| 4.54k/4.54k [00:00<00:00, 5.81MB/s]\n"
          ]
        },
        {
          "output_type": "stream",
          "name": "stdout",
          "text": [
            "\n",
            "Training with activation: ReLU\n",
            "Epoch [1/5], Loss: 0.3372\n",
            "Epoch [2/5], Loss: 0.1403\n",
            "Epoch [3/5], Loss: 0.0963\n",
            "Epoch [4/5], Loss: 0.0728\n",
            "Epoch [5/5], Loss: 0.0558\n",
            "\n",
            "Training with activation: Sigmoid\n",
            "Epoch [1/5], Loss: 0.6972\n",
            "Epoch [2/5], Loss: 0.2206\n",
            "Epoch [3/5], Loss: 0.1556\n",
            "Epoch [4/5], Loss: 0.1168\n",
            "Epoch [5/5], Loss: 0.0922\n",
            "\n",
            "Training with activation: Tanh\n",
            "Epoch [1/5], Loss: 0.3340\n",
            "Epoch [2/5], Loss: 0.1378\n",
            "Epoch [3/5], Loss: 0.0939\n",
            "Epoch [4/5], Loss: 0.0692\n",
            "Epoch [5/5], Loss: 0.0510\n",
            "\n",
            "Final Test Accuracy:\n",
            "ReLU: 96.96%\n",
            "Sigmoid: 96.93%\n",
            "Tanh: 97.65%\n"
          ]
        }
      ],
      "source": [
        "import torch\n",
        "import torch.nn as nn\n",
        "import torch.optim as optim\n",
        "from torchvision import datasets, transforms\n",
        "from torch.utils.data import DataLoader\n",
        "\n",
        "# Device configuration\n",
        "device = torch.device(\"cuda\" if torch.cuda.is_available() else \"cpu\")\n",
        "\n",
        "# MNIST dataset (images are 28x28)\n",
        "transform = transforms.Compose([\n",
        "    transforms.ToTensor(),\n",
        "    transforms.Lambda(lambda x: x.view(-1))  # flatten 28x28 -> 784\n",
        "])\n",
        "\n",
        "train_dataset = datasets.MNIST(root=\"./data\", train=True, transform=transform, download=True)\n",
        "test_dataset = datasets.MNIST(root=\"./data\", train=False, transform=transform)\n",
        "\n",
        "train_loader = DataLoader(dataset=train_dataset, batch_size=64, shuffle=True)\n",
        "test_loader = DataLoader(dataset=test_dataset, batch_size=64, shuffle=False)\n",
        "\n",
        "# Feed-forward Neural Network\n",
        "class FFNN(nn.Module):\n",
        "    def __init__(self, activation_fn):\n",
        "        super(FFNN, self).__init__()\n",
        "        self.fc1 = nn.Linear(784, 128)\n",
        "        self.fc2 = nn.Linear(128, 64)\n",
        "        self.fc3 = nn.Linear(64, 10)\n",
        "        self.activation = activation_fn\n",
        "\n",
        "    def forward(self, x):\n",
        "        x = self.activation(self.fc1(x))\n",
        "        x = self.activation(self.fc2(x))\n",
        "        x = self.fc3(x)  # logits\n",
        "        return x\n",
        "\n",
        "# Train function\n",
        "def train_model(activation_fn, epochs=5):\n",
        "    model = FFNN(activation_fn).to(device)\n",
        "    criterion = nn.CrossEntropyLoss()\n",
        "    optimizer = optim.Adam(model.parameters(), lr=0.001)\n",
        "\n",
        "    for epoch in range(epochs):\n",
        "        model.train()\n",
        "        total_loss = 0\n",
        "        for images, labels in train_loader:\n",
        "            images, labels = images.to(device), labels.to(device)\n",
        "\n",
        "            # Forward pass\n",
        "            outputs = model(images)\n",
        "            loss = criterion(outputs, labels)\n",
        "\n",
        "            # Backward pass\n",
        "            optimizer.zero_grad()\n",
        "            loss.backward()\n",
        "            optimizer.step()\n",
        "\n",
        "            total_loss += loss.item()\n",
        "\n",
        "        print(f\"Epoch [{epoch+1}/{epochs}], Loss: {total_loss/len(train_loader):.4f}\")\n",
        "\n",
        "    # Evaluation\n",
        "    model.eval()\n",
        "    correct, total = 0, 0\n",
        "    with torch.no_grad():\n",
        "        for images, labels in test_loader:\n",
        "            images, labels = images.to(device), labels.to(device)\n",
        "            outputs = model(images)\n",
        "            _, predicted = torch.max(outputs.data, 1)\n",
        "            total += labels.size(0)\n",
        "            correct += (predicted == labels).sum().item()\n",
        "\n",
        "    acc = 100 * correct / total\n",
        "    return acc\n",
        "\n",
        "# Study different activations\n",
        "activations = {\n",
        "    \"ReLU\": nn.ReLU(),\n",
        "    \"Sigmoid\": nn.Sigmoid(),\n",
        "    \"Tanh\": nn.Tanh()\n",
        "}\n",
        "\n",
        "results = {}\n",
        "for name, act_fn in activations.items():\n",
        "    print(f\"\\nTraining with activation: {name}\")\n",
        "    acc = train_model(act_fn, epochs=5)\n",
        "    results[name] = acc\n",
        "\n",
        "print(\"\\nFinal Test Accuracy:\")\n",
        "for act, acc in results.items():\n",
        "    print(f\"{act}: {acc:.2f}%\")\n"
      ]
    }
  ]
}